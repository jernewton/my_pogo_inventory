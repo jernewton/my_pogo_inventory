{
 "cells": [
  {
   "cell_type": "code",
   "execution_count": 6,
   "metadata": {},
   "outputs": [
    {
     "name": "stdout",
     "output_type": "stream",
     "text": [
      "start\n",
      "file open\n",
      "start moving\n",
      "0 0.00022125244140625\n",
      "3000 0.004122734069824219\n",
      "6000 0.0033371448516845703\n",
      "done moving\n",
      "done dumping\n"
     ]
    }
   ],
   "source": [
    "import json\n",
    "import time\n",
    "\n",
    "print('start')\n",
    "with open(\"Pokemons-0ProfessorFig-23-06-2025.json\") as f:\n",
    "    data = json.load(f)\n",
    "print('file open')\n",
    "minified_data = {}\n",
    "i = 0\n",
    "last_time = time.time()\n",
    "print('start moving')\n",
    "for mon_id, mon in data.items():\n",
    "    if(i%3000==0):\n",
    "        nowish = time.time()\n",
    "        print(i, nowish - last_time)\n",
    "        last_time = nowish\n",
    "    minified_data[mon_id] = {\n",
    "        \"mon_isshiny\": mon.get(\"mon_isshiny\"),\n",
    "        \"mon_cp\": mon.get(\"mon_cp\"),\n",
    "        \"mon_name\": mon.get(\"mon_name\"),\n",
    "        \"mon_number\": mon.get(\"mon_number\"),\n",
    "        \"mon_islucky\": mon.get(\"mon_islucky\")\n",
    "    }\n",
    "\n",
    "    if \"mon_form\" in mon:\n",
    "        minified_data[mon_id][\"mon_form\"] = mon[\"mon_form\"]\n",
    "    if \"mon_costume\" in mon:\n",
    "        minified_data[mon_id][\"mon_costume\"] = mon[\"mon_costume\"]\n",
    "\n",
    "    if \"mon_alignment\" in mon:\n",
    "        minified_data[mon_id][\"mon_alignment\"] = mon[\"mon_alignment\"]\n",
    "    if \"is_traded\" in mon:\n",
    "        minified_data[mon_id][\"is_traded\"] = mon[\"is_traded\"]\n",
    "    i = i + 1\n",
    "print('done moving')\n",
    "with open(\"Pokemons-0ProfessorFig-min.json\", \"w\") as f:\n",
    "    json.dump(minified_data, f, indent=2)\n",
    "print('done dumping')"
   ]
  },
  {
   "cell_type": "code",
   "execution_count": 2,
   "metadata": {},
   "outputs": [],
   "source": [
    "def split_large_json_object(input_path, out1_path, out2_path):\n",
    "    import re\n",
    "\n",
    "    def write_wrapper(file, is_first):\n",
    "        file.write(\"{\\n\")\n",
    "        return lambda line, is_last=False: file.write(\n",
    "            (\"\" if is_first else \",\") + line + (\"\\n\" if is_last else \"\")\n",
    "        )\n",
    "\n",
    "    brace_depth = 0\n",
    "    current_lines = []\n",
    "    writing_first = True\n",
    "    pair_count = 0\n",
    "    halfway = None\n",
    "\n",
    "    with open(input_path, \"r\") as infile:\n",
    "        lines = infile.readlines()\n",
    "\n",
    "    # Estimate halfway point from counting top-level keys\n",
    "    key_lines = [line for line in lines if re.match(r'\\s*\".+?\": \\{', line)]\n",
    "    halfway = len(key_lines) // 2\n",
    "\n",
    "    out1 = open(out1_path, \"w\")\n",
    "    out2 = open(out2_path, \"w\")\n",
    "    write1 = write_wrapper(out1, is_first=True)\n",
    "    write2 = write_wrapper(out2, is_first=True)\n",
    "\n",
    "    collecting = False\n",
    "    for line in lines:\n",
    "        if re.match(r'\\s*\".+?\": \\{', line):\n",
    "            collecting = True\n",
    "            current_lines = [line]\n",
    "            brace_depth = 1\n",
    "            continue\n",
    "\n",
    "        if collecting:\n",
    "            current_lines.append(line)\n",
    "            brace_depth += line.count(\"{\") - line.count(\"}\")\n",
    "            if brace_depth == 0:\n",
    "                # Decide which file to write to\n",
    "                joined = \"\".join(current_lines).rstrip(\",\\n\")\n",
    "                if pair_count < halfway:\n",
    "                    write1(joined)\n",
    "                else:\n",
    "                    write2(joined)\n",
    "                pair_count += 1\n",
    "                collecting = False\n",
    "\n",
    "    out1.write(\"\\n}\\n\")\n",
    "    out2.write(\"\\n}\\n\")\n",
    "    out1.close()\n",
    "    out2.close()\n",
    "\n",
    "split_large_json_object(\n",
    "    \"Pokemons-0ProfessorFig-23-06-2025 copy.json\",\n",
    "    \"Pokemons-0ProfessorFig-part1.json\",\n",
    "    \"Pokemons-0ProfessorFig-part2.json\"\n",
    ")\n",
    "\n"
   ]
  },
  {
   "cell_type": "code",
   "execution_count": null,
   "metadata": {},
   "outputs": [],
   "source": []
  }
 ],
 "metadata": {
  "kernelspec": {
   "display_name": "base",
   "language": "python",
   "name": "python3"
  },
  "language_info": {
   "codemirror_mode": {
    "name": "ipython",
    "version": 3
   },
   "file_extension": ".py",
   "mimetype": "text/x-python",
   "name": "python",
   "nbconvert_exporter": "python",
   "pygments_lexer": "ipython3",
   "version": "3.9.5 (default, May 18 2021, 12:31:01) \n[Clang 10.0.0 ]"
  },
  "orig_nbformat": 4,
  "vscode": {
   "interpreter": {
    "hash": "af7cd85d0ff85b341e680e5c70a128e4bc25cb9f55406906e128f8a3caf99935"
   }
  }
 },
 "nbformat": 4,
 "nbformat_minor": 2
}
