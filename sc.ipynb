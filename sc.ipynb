{
 "cells": [
  {
   "attachments": {},
   "cell_type": "markdown",
   "metadata": {},
   "source": [
    "import requests\n",
    "from bs4 import BeautifulSoup\n",
    "import re\n",
    "\n",
    "url = \"https://pokemondb.net/go/evolution\"\n",
    "response = requests.get(url)\n",
    "soup = BeautifulSoup(response.text, \"html.parser\")\n",
    "\n",
    "family_map = {}\n",
    "\n",
    "# Each evolution family is inside a div with class 'infocard-list-evo'\n",
    "for evo_chain in soup.select(\"div.infocard-list-evo\"):\n",
    "    # Find the base form dex number from the first sprite alt attribute\n",
    "    base_card = evo_chain.select_one(\"span.infocard > a.ent-name\")\n",
    "    base_dex = None\n",
    "    if base_card and base_card[\"href\"]:\n",
    "        sprite = evo_chain.select_one(\"span.infocard img\")\n",
    "        if sprite and \"alt\" in sprite.attrs:\n",
    "            alt_text = sprite[\"alt\"]  # e.g., \"#001 Bulbasaur\"\n",
    "            match = re.match(r\"#(\\d+)\", alt_text)\n",
    "            if match:\n",
    "                base_dex = int(match.group(1))\n",
    "\n",
    "    if base_dex is None:\n",
    "        # Could not find base dex number, skip this family\n",
    "        continue\n",
    "\n",
    "    # Convert the whole evo_chain HTML to a string\n",
    "    evo_html_str = str(evo_chain)\n",
    "\n",
    "    # Find all occurrences of # followed by up to 5 digits\n",
    "    dex_numbers = set()\n",
    "    for match in re.finditer(r\"#(\\d{1,5})\", evo_html_str):\n",
    "        dex_num = int(match.group(1))\n",
    "        dex_numbers.add(dex_num)\n",
    "\n",
    "    # Store in map: base_dex -> sorted list of all family dex numbers\n",
    "    family_map[base_dex] = sorted(dex_numbers)\n",
    "\n",
    "# Output the family map as JavaScript object\n",
    "print(\"const evolutionFamilies = {\")\n",
    "for base, dex_list in sorted(family_map.items()):\n",
    "    dex_str = \", \".join(str(d) for d in dex_list)\n",
    "    print(f\"  {base}: [{dex_str}],\")\n",
    "print(\"};\")\n"
   ]
  },
  {
   "cell_type": "code",
   "execution_count": null,
   "metadata": {},
   "outputs": [],
   "source": []
  }
 ],
 "metadata": {
  "kernelspec": {
   "display_name": "Python 3",
   "language": "python",
   "name": "python3"
  },
  "language_info": {
   "name": "python",
   "version": "3.9.0 (v3.9.0:9cf6752276, Oct  5 2020, 11:29:23) \n[Clang 6.0 (clang-600.0.57)]"
  },
  "orig_nbformat": 4,
  "vscode": {
   "interpreter": {
    "hash": "aee8b7b246df8f9039afb4144a1f6fd8d2ca17a180786b69acc140d282b71a49"
   }
  }
 },
 "nbformat": 4,
 "nbformat_minor": 2
}
