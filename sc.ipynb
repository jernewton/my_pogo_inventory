{
 "cells": [
  {
   "attachments": {},
   "cell_type": "markdown",
   "metadata": {},
   "source": [
    "import requests\n",
    "from bs4 import BeautifulSoup\n",
    "import re\n",
    "\n",
    "url = \"https://pokemondb.net/go/evolution\"\n",
    "response = requests.get(url)\n",
    "soup = BeautifulSoup(response.text, \"html.parser\")\n",
    "\n",
    "family_map = {}\n",
    "\n",
    "# Each evolution family is inside a div with class 'infocard-list-evo'\n",
    "for evo_chain in soup.select(\"div.infocard-list-evo\"):\n",
    "    # Find the base form dex number from the first sprite alt attribute\n",
    "    base_card = evo_ch